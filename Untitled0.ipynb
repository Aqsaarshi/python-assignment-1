{
  "nbformat": 4,
  "nbformat_minor": 0,
  "metadata": {
    "colab": {
      "provenance": [],
      "authorship_tag": "ABX9TyPJ1XKkLB3teFczyucAkvPs",
      "include_colab_link": true
    },
    "kernelspec": {
      "name": "python3",
      "display_name": "Python 3"
    },
    "language_info": {
      "name": "python"
    }
  },
  "cells": [
    {
      "cell_type": "markdown",
      "metadata": {
        "id": "view-in-github",
        "colab_type": "text"
      },
      "source": [
        "<a href=\"https://colab.research.google.com/github/Aqsaarshi/python-assignment-1/blob/main/Untitled0.ipynb\" target=\"_parent\"><img src=\"https://colab.research.google.com/assets/colab-badge.svg\" alt=\"Open In Colab\"/></a>"
      ]
    },
    {
      "cell_type": "code",
      "source": [
        "#Part 1 Understanding The Python String"
      ],
      "metadata": {
        "id": "HAnXi5iVuZP2"
      },
      "execution_count": null,
      "outputs": []
    },
    {
      "cell_type": "code",
      "source": [
        "#1. Create three different strings using each type of quotation:\n"
      ],
      "metadata": {
        "id": "Bqis6mOxwYU9"
      },
      "execution_count": 7,
      "outputs": []
    },
    {
      "cell_type": "code",
      "source": [
        "single_quote='This is single quote string'"
      ],
      "metadata": {
        "id": "Ku4DK3X1wf0a"
      },
      "execution_count": 9,
      "outputs": []
    },
    {
      "cell_type": "code",
      "source": [
        "print(single_quote)"
      ],
      "metadata": {
        "colab": {
          "base_uri": "https://localhost:8080/"
        },
        "id": "zpgQT-T9wnxz",
        "outputId": "fee772f3-7e83-453c-bc80-01909cac16df"
      },
      "execution_count": 10,
      "outputs": [
        {
          "output_type": "stream",
          "name": "stdout",
          "text": [
            "This is single quote string\n"
          ]
        }
      ]
    },
    {
      "cell_type": "code",
      "source": [
        "double_quote=\"This is Double quote string\""
      ],
      "metadata": {
        "id": "Fuxo1mZ3w1RI"
      },
      "execution_count": 11,
      "outputs": []
    },
    {
      "cell_type": "code",
      "source": [
        "print(double_quote)"
      ],
      "metadata": {
        "colab": {
          "base_uri": "https://localhost:8080/"
        },
        "id": "LUixMonrw6YQ",
        "outputId": "5c3be6d2-67a7-4844-dd5d-d48c3894e531"
      },
      "execution_count": 12,
      "outputs": [
        {
          "output_type": "stream",
          "name": "stdout",
          "text": [
            "This is Double quote string\n"
          ]
        }
      ]
    },
    {
      "cell_type": "code",
      "source": [
        "triple_quote=\"\"\"\n",
        "HI i am Aqsa Arshad\n",
        "I'm software Engineer\n",
        "I'm 20 years old \"\"\""
      ],
      "metadata": {
        "id": "BkWMuc8lw-ug"
      },
      "execution_count": 13,
      "outputs": []
    },
    {
      "cell_type": "code",
      "source": [
        "print(triple_quote)"
      ],
      "metadata": {
        "colab": {
          "base_uri": "https://localhost:8080/"
        },
        "id": "hlfO8BuAxDzM",
        "outputId": "b3a467b7-a8d3-4419-b670-331d7a675bad"
      },
      "execution_count": 14,
      "outputs": [
        {
          "output_type": "stream",
          "name": "stdout",
          "text": [
            "\n",
            "HI i am Aqsa Arshad\n",
            "I'm software Engineer\n",
            "I'm 20 years old \n"
          ]
        }
      ]
    },
    {
      "cell_type": "code",
      "source": [
        "#2. Explain in your own words: What is the advantage of each type of quotation?"
      ],
      "metadata": {
        "id": "mYJM0zBpxJKs"
      },
      "execution_count": 15,
      "outputs": []
    },
    {
      "cell_type": "code",
      "source": [
        "#    Answer 2\n",
        "#single quotes are useful for short string\n",
        "#Double quotes are useful when the string contains single quotes.\n",
        "#Triple quotes are useful for the multi-line string and are often used for documentation (docstrings)"
      ],
      "metadata": {
        "id": "y57FxjY8xPCP"
      },
      "execution_count": 16,
      "outputs": []
    },
    {
      "cell_type": "code",
      "source": [
        "#3. Write a string that contains both single and double quotes inside it."
      ],
      "metadata": {
        "id": "1kDHnGH2zfWL"
      },
      "execution_count": 17,
      "outputs": []
    },
    {
      "cell_type": "code",
      "source": [
        "#Answer 3\n",
        "quote_string='She said , \"I am going to the store\"'"
      ],
      "metadata": {
        "id": "u4FagOuczrOJ"
      },
      "execution_count": 18,
      "outputs": []
    },
    {
      "cell_type": "code",
      "source": [
        "print(quote_string)"
      ],
      "metadata": {
        "colab": {
          "base_uri": "https://localhost:8080/"
        },
        "id": "Eypi1TYk0NhQ",
        "outputId": "03b2a7e0-a219-4e65-9b57-19a5392afdf9"
      },
      "execution_count": 19,
      "outputs": [
        {
          "output_type": "stream",
          "name": "stdout",
          "text": [
            "She said , \"I am going to the store\"\n"
          ]
        }
      ]
    },
    {
      "cell_type": "code",
      "source": [
        "# 4. Multi-line string about a hobby"
      ],
      "metadata": {
        "id": "U8j42JPE0V4a"
      },
      "execution_count": null,
      "outputs": []
    },
    {
      "cell_type": "code",
      "source": [
        "# Answer 4\n",
        "hobby_string=\"\"\"\n",
        "My favourite hobby is codding\n",
        "I love solving problems , build website\n",
        "and building projects\n",
        "It's both fun and rewarding!\"\"\"\n",
        "\n",
        "\n"
      ],
      "metadata": {
        "id": "0-4Sli9A0bo7"
      },
      "execution_count": 20,
      "outputs": []
    },
    {
      "cell_type": "code",
      "source": [
        "print(hobby_string)"
      ],
      "metadata": {
        "colab": {
          "base_uri": "https://localhost:8080/"
        },
        "id": "ITWv0yER-aJI",
        "outputId": "2cfc358c-a339-4513-aa9d-023aa542f045"
      },
      "execution_count": 21,
      "outputs": [
        {
          "output_type": "stream",
          "name": "stdout",
          "text": [
            "\n",
            "My favourite hobby is codding\n",
            "I love solving problems , build website\n",
            "and building projects\n",
            "It's both fun and rewarding!\n"
          ]
        }
      ]
    },
    {
      "cell_type": "code",
      "source": [
        "#Part 2: String Methods Practice\n"
      ],
      "metadata": {
        "id": "KM4TdTMF-fQC"
      },
      "execution_count": 22,
      "outputs": []
    },
    {
      "cell_type": "code",
      "source": [
        "#1. Create a variable full_name with your full name (first and last name).\n",
        " #Then write code  Then write code to:\n",
        "#o Print your name in all uppercase letters\n",
        "#o Print your name in all lowercase letters\n",
        "#Print your name with the first letter of each name capitalized\n"
      ],
      "metadata": {
        "id": "EK0ZxLSM-lp5"
      },
      "execution_count": 23,
      "outputs": []
    },
    {
      "cell_type": "code",
      "source": [
        "full_name=\"Aqsa Arshad Rasheed\""
      ],
      "metadata": {
        "id": "8TDf-MZD_p8g"
      },
      "execution_count": 24,
      "outputs": []
    },
    {
      "cell_type": "code",
      "source": [
        "print(full_name.upper())   # Uppercase\n",
        "print(full_name.lower())   # Lowercase\n",
        "print(full_name.title())   # Title case\n"
      ],
      "metadata": {
        "colab": {
          "base_uri": "https://localhost:8080/"
        },
        "id": "vGCJL93y_-rB",
        "outputId": "7b66af03-8e36-4360-8a4e-10c5547b1a51"
      },
      "execution_count": 25,
      "outputs": [
        {
          "output_type": "stream",
          "name": "stdout",
          "text": [
            "AQSA ARSHAD RASHEED\n",
            "aqsa arshad rasheed\n",
            "Aqsa Arshad Rasheed\n"
          ]
        }
      ]
    },
    {
      "cell_type": "code",
      "source": [
        "#2.Create a variable messy_text = \" Python programming is fun! \" Then write code to:\n",
        "# o Remove all the extra spaces at the beginning and end\n",
        "#o Replace \"fun\" with \"amazing\"\n",
        "#o Count how many times the letter 'i' appears"
      ],
      "metadata": {
        "id": "nsWZCUbnAIo2"
      },
      "execution_count": 26,
      "outputs": []
    },
    {
      "cell_type": "code",
      "source": [
        "messy_text=\" Python is programming is fun! \"\n",
        "print(messy_text.strip())\n",
        "print(messy_text.replace(\"fun\",\"amazing\"))\n",
        "print(messy_text.count(\"i\"))"
      ],
      "metadata": {
        "colab": {
          "base_uri": "https://localhost:8080/"
        },
        "id": "y2pm2fsqBS5a",
        "outputId": "11b1d1d4-5dd3-4611-dfc8-38ca3a8500a7"
      },
      "execution_count": 29,
      "outputs": [
        {
          "output_type": "stream",
          "name": "stdout",
          "text": [
            "Python is programming is fun!\n",
            " Python is programming is amazing! \n",
            "3\n"
          ]
        }
      ]
    },
    {
      "cell_type": "code",
      "source": [
        "#3. Create a variable sentence = \"The quick brown fox jumps over the lazy dog\"\n",
        "#Then write code to:\n",
        "#o Split this sentence into a list of words\n",
        "#o Join the words back together with dashes between them\n",
        "#o Check if the sentence starts with \"The\"\n",
        "#o Find the position of the word \"fox\""
      ],
      "metadata": {
        "id": "a-yBG0YLCNRK"
      },
      "execution_count": 30,
      "outputs": []
    },
    {
      "cell_type": "code",
      "source": [
        "sentence= \"The quick brown fox jumps over the lazy dog\"\n",
        "print(sentence.split())\n",
        "print(\"-\".join(sentence.split()))\n",
        "print(sentence.startswith(\"The\"))\n",
        "print(sentence.find(\"fox\"))\n"
      ],
      "metadata": {
        "colab": {
          "base_uri": "https://localhost:8080/"
        },
        "id": "HSK3gZwSCWqb",
        "outputId": "8c7951b6-ba0d-4dab-9d08-3a993b8844b9"
      },
      "execution_count": 31,
      "outputs": [
        {
          "output_type": "stream",
          "name": "stdout",
          "text": [
            "['The', 'quick', 'brown', 'fox', 'jumps', 'over', 'the', 'lazy', 'dog']\n",
            "The-quick-brown-fox-jumps-over-the-lazy-dog\n",
            "True\n",
            "16\n"
          ]
        }
      ]
    },
    {
      "cell_type": "code",
      "source": [
        "#Part 3: F-Strings\n",
        "\n"
      ],
      "metadata": {
        "id": "dxxWt793Dv5P"
      },
      "execution_count": 32,
      "outputs": []
    },
    {
      "cell_type": "code",
      "source": [
        "#1. Create variables for:\n",
        "#o Your name\n",
        "#o Your age\n",
        "#o Your favorite programming language\n",
        "#Then use f-strings to create these sentences:\n",
        "#o \"My name is {your_name} and I am {your_age} years old.\"\n",
        "#o \"I enjoy programming in {language}, it's my favorite!\"\n",
        "#o Create a math expression inside an f-string: \"In 5 years, I will be {age + 5} years old.\"\n"
      ],
      "metadata": {
        "id": "zQbe6AwjD4DZ"
      },
      "execution_count": 33,
      "outputs": []
    },
    {
      "cell_type": "code",
      "source": [
        "name=\"Aqsa Arshad\"\n",
        "age = 20\n",
        "language=\"Next.js\"\n",
        "\n",
        "print(f\"My name is {name} and I am {age} years old . My favourite programming language is {language}\")\n",
        "print(f\"I enjoy programming in {language}, its my favorite!\")\n",
        "print(f\"In 5 years, I will be {age + 5} years old.\")"
      ],
      "metadata": {
        "colab": {
          "base_uri": "https://localhost:8080/"
        },
        "id": "3gtnWIrgEC3m",
        "outputId": "85e2e75b-df03-456e-ef8e-1e5125ca16fd"
      },
      "execution_count": 34,
      "outputs": [
        {
          "output_type": "stream",
          "name": "stdout",
          "text": [
            "My name is Aqsa Arshad and I am 20 years old . My favourite programming language is Next.js\n",
            "I enjoy programming in Next.js, its my favorite!\n",
            "In 5 years, I will be 25 years old.\n"
          ]
        }
      ]
    },
    {
      "cell_type": "code",
      "source": [
        "#Part 4: Combining String Methods with F-Strings\n",
        "#Create a program that:\n",
        "#1. Asks for user input about their first name, last name, and birth year\n",
        "#2. Uses string methods to properly capitalize their name\n",
        "#3. Uses f-strings to create a profile message: \"Profile: {First Last}, Age: {calculated age},\n",
        "#Username: {first initial + last name + birth year}\""
      ],
      "metadata": {
        "id": "xG-16tTJGK8y"
      },
      "execution_count": 35,
      "outputs": []
    },
    {
      "cell_type": "code",
      "source": [
        "first_name = input(\"Enter your first name: \").strip().title()\n",
        "last_name = input(\"Enter your last name: \").strip().title()\n",
        "birth_year = input(\"Enter your birth year: \").strip()\n"
      ],
      "metadata": {
        "colab": {
          "base_uri": "https://localhost:8080/"
        },
        "id": "SAVUy8f2HEB7",
        "outputId": "df8dbbc3-33e6-4d2e-d98f-2f848573705a"
      },
      "execution_count": 36,
      "outputs": [
        {
          "name": "stdout",
          "output_type": "stream",
          "text": [
            "Enter your first name: aqsa\n",
            "Enter your last name: arshad\n",
            "Enter your birth year: 2005\n"
          ]
        }
      ]
    },
    {
      "cell_type": "code",
      "source": [
        "current_year=2025\n",
        "age = current_year - int(birth_year)\n",
        "username = f\"{first_name[0].lower()}{last_name.lower()}{birth_year}\"\n"
      ],
      "metadata": {
        "id": "5lvWFU1qJAFh"
      },
      "execution_count": 38,
      "outputs": []
    },
    {
      "cell_type": "code",
      "source": [
        "print(f\"Profile: {first_name} {last_name}, Age: {age}, Username: {username}\")\n"
      ],
      "metadata": {
        "colab": {
          "base_uri": "https://localhost:8080/"
        },
        "id": "XKQcwJIRfCH4",
        "outputId": "7a0634a9-eb3f-4466-f7b4-41ef24cd4d42"
      },
      "execution_count": 39,
      "outputs": [
        {
          "output_type": "stream",
          "name": "stdout",
          "text": [
            "Profile: Aqsa Arshad, Age: 20, Username: aarshad2005\n"
          ]
        }
      ]
    }
  ]
}